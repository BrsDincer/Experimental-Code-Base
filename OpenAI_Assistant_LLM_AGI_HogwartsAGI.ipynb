{
  "nbformat": 4,
  "nbformat_minor": 0,
  "metadata": {
    "colab": {
      "provenance": [],
      "toc_visible": true
    },
    "kernelspec": {
      "name": "python3",
      "display_name": "Python 3"
    },
    "language_info": {
      "name": "python"
    }
  },
  "cells": [
    {
      "cell_type": "markdown",
      "source": [
        "# <font color=\"#38db02\">Author</font>\n",
        "\n",
        "Coder: <font color=\"#38db02\"> Baris Dincer</font>\n",
        "\n",
        "Department: <font color=\"#38db02\">Artificial Intelligence - Lead / CO-Founder of LUX & Memoriae</font>\n",
        "\n",
        "Affiliated: <font color=\"#38db02\"> LUX Space Science & Technology - Memoriae Technology\n",
        "\n",
        "## Account\n",
        "\n",
        "- LinkedIn:\n",
        "[LinkedIn](https://www.linkedin.com/in/brs-dincer/)\n",
        "\n",
        "- Kaggle:\n",
        "[Kaggle](https://www.kaggle.com/brsdincer)\n",
        "\n",
        "## Project Description\n",
        "\n",
        "- Establishing the AGI principle by making experimental approaches and creating external tools on the custom assistant announced by OpenAI within the scope of DevDay\n",
        "\n",
        ">`NOTE: Huggingface and OpenAI API values are required.`"
      ],
      "metadata": {
        "id": "CHkYRTDmM9cL"
      }
    },
    {
      "cell_type": "markdown",
      "source": [
        "# General Approaches"
      ],
      "metadata": {
        "id": "rjK0sDtJK7PI"
      }
    },
    {
      "cell_type": "markdown",
      "source": [
        "## Util-Classes"
      ],
      "metadata": {
        "id": "l8xVfRSwK_7D"
      }
    },
    {
      "cell_type": "code",
      "execution_count": 1,
      "metadata": {
        "id": "kiQrRqluKSiU"
      },
      "outputs": [],
      "source": [
        "class CLASSINIT:\n",
        "  pass\n",
        "class PROCESS:\n",
        "  pass\n",
        "class RESULT:\n",
        "  pass\n",
        "class PARAMETER:\n",
        "  pass\n",
        "class URL:\n",
        "  pass\n",
        "class DOCUMENTATION:\n",
        "  pass\n",
        "class NULL:\n",
        "  pass\n",
        "class ERROR:\n",
        "  pass\n",
        "class DATA:\n",
        "  pass\n",
        "class MODEL:\n",
        "  pass"
      ]
    },
    {
      "cell_type": "markdown",
      "source": [
        "## Util-Functions"
      ],
      "metadata": {
        "id": "e7iB5KtALBm0"
      }
    },
    {
      "cell_type": "code",
      "source": [
        "createDirectory:PROCESS = lambda x: os.mkdir(x) if not os.path.exists(x) else None\n",
        "deleteDirectory:PROCESS = lambda x: shutil.rmtree(x) if len(os.listdir(x)) > 1 else None\n",
        "sortDirectory:PROCESS = lambda x: int(x.rsplit(\"_\",1)[-1].split(\".\")[0])"
      ],
      "metadata": {
        "id": "WGy9pL3yK9Y4"
      },
      "execution_count": 2,
      "outputs": []
    },
    {
      "cell_type": "code",
      "source": [
        "class ERRORMODULE(object):\n",
        "  def __init__(self)->CLASSINIT:\n",
        "    self.error = NotImplementedError(NotImplemented)\n",
        "  def __str__(self)->str:\n",
        "    return \"Error Module - Sub(Script)\"\n",
        "  def __call__(self)->ERROR:\n",
        "    return self.error\n",
        "  def __getstate__(self)->ERROR:\n",
        "    raise self.error\n",
        "  def __repr__(self)->DOCUMENTATION | str:\n",
        "    return ERRORMODULE.__doc__\n",
        "  def Default(self)->ERROR:\n",
        "    raise self.error\n",
        "  def Custom(self,errorType:ERROR,errorMessage:str)->ERROR:\n",
        "    raise errorType(errorMessage)"
      ],
      "metadata": {
        "id": "-yR9cyFPLlxi"
      },
      "execution_count": 3,
      "outputs": []
    },
    {
      "cell_type": "code",
      "source": [
        "def CREATEINPUTURL(initURL:URL)->dict:\n",
        "  return {\n",
        "      \"type\":\"image_url\",\n",
        "      \"image_url\":str(initURL)\n",
        "  }"
      ],
      "metadata": {
        "id": "9C-Im7dqmI4h"
      },
      "execution_count": 4,
      "outputs": []
    },
    {
      "cell_type": "code",
      "source": [
        "def CREATEINPUTTEXT(initText:str)->dict:\n",
        "  return {\n",
        "      \"type\":\"text\",\n",
        "      \"text\":str(initText)\n",
        "  }"
      ],
      "metadata": {
        "id": "IldyrRj7mSh7"
      },
      "execution_count": 5,
      "outputs": []
    },
    {
      "cell_type": "markdown",
      "source": [
        "## Utils-Modules"
      ],
      "metadata": {
        "id": "MZLzQA6nMBSd"
      }
    },
    {
      "cell_type": "code",
      "source": [
        "import sys,os,shutil\n",
        "from typing import Union,Optional,List,Dict,Any"
      ],
      "metadata": {
        "id": "mMoh21FFL-zz"
      },
      "execution_count": 6,
      "outputs": []
    },
    {
      "cell_type": "code",
      "source": [
        "willBeDownloaded:list = [\n",
        "    \"langchain==0.0.311\",\n",
        "    \"langchain-experimental\",\n",
        "    \"cohere\",\n",
        "    \"tiktoken\",\n",
        "    \"youtube-transcript-api\",\n",
        "    \"pytube\",\n",
        "    \"openai\",\n",
        "    \"duckduckgo-search\",\n",
        "    \"wikipedia\",\n",
        "    \"arxiv\",\n",
        "    \"huggingface_hub\"\n",
        "]"
      ],
      "metadata": {
        "id": "CaamzeUvMK1d"
      },
      "execution_count": 7,
      "outputs": []
    },
    {
      "cell_type": "code",
      "source": [
        "%%capture\n",
        "for module in willBeDownloaded:\n",
        "  !pip install $module"
      ],
      "metadata": {
        "id": "gPAhSY01MltA"
      },
      "execution_count": 8,
      "outputs": []
    },
    {
      "cell_type": "markdown",
      "source": [
        "## Utils-Constants"
      ],
      "metadata": {
        "id": "GfGjWU4yNTbO"
      }
    },
    {
      "cell_type": "code",
      "source": [
        "modelGPT:str = \"gpt-4-1106-preview\""
      ],
      "metadata": {
        "id": "18HrJhPpMtrs"
      },
      "execution_count": 9,
      "outputs": []
    },
    {
      "cell_type": "markdown",
      "source": [
        "## Utils-Credentials"
      ],
      "metadata": {
        "id": "TuysfZsoNuXJ"
      }
    },
    {
      "cell_type": "code",
      "source": [
        "import openai"
      ],
      "metadata": {
        "id": "9F_O9-MzPNXk"
      },
      "execution_count": 10,
      "outputs": []
    },
    {
      "cell_type": "code",
      "source": [
        "def DefineCredentials(typePass:str=\"openai\")->PROCESS:\n",
        "  from getpass import getpass\n",
        "  if typePass.lower() == \"openai\":\n",
        "    userInput = getpass(\"Type Your OpenAI API Key > \")\n",
        "  else:\n",
        "    userInput = getpass(\"Type Your HuggingFace API Key > \")\n",
        "  if (userInput) and (userInput != \" \"):\n",
        "    if typePass.lower() == \"openai\":\n",
        "      os.environ[\"OPENAI_API_KEY\"] = str(userInput)\n",
        "      openai.api_key = str(userInput)\n",
        "    else:\n",
        "      os.environ[\"HUGGINGFACEHUB_API_TOKEN\"] = str(userInput)\n",
        "      globals()[\"huggingfaceApiKey\"] = str(userInput)\n",
        "      !huggingface-cli login --token $huggingfaceApiKey\n",
        "  else:\n",
        "    DefineCredentials()"
      ],
      "metadata": {
        "id": "HfqcndFWNsM6"
      },
      "execution_count": 11,
      "outputs": []
    },
    {
      "cell_type": "markdown",
      "source": [
        "# LLM"
      ],
      "metadata": {
        "id": "clJdoAYie-bQ"
      }
    },
    {
      "cell_type": "markdown",
      "source": [
        "## Hugging"
      ],
      "metadata": {
        "id": "C1T_S0NRFcpM"
      }
    },
    {
      "cell_type": "code",
      "source": [
        "from langchain.llms import HuggingFaceHub"
      ],
      "metadata": {
        "id": "pZKz89xAFmAF"
      },
      "execution_count": 12,
      "outputs": []
    },
    {
      "cell_type": "markdown",
      "source": [
        "### Structure"
      ],
      "metadata": {
        "id": "i1q5Ey5UF7re"
      }
    },
    {
      "cell_type": "code",
      "source": [
        "class LLMArchitecture(object):\n",
        "  def __init__(self)->CLASSINIT:\n",
        "    pass\n",
        "  def __str__(self)->str:\n",
        "    return \"LLM Architecture - Pre(Script)\"\n",
        "  def __call__(self)->NULL:\n",
        "    return None\n",
        "  def __getstate__(self)->ERROR:\n",
        "    ERRORMODULE().Default()\n",
        "  def __repr__(self)->DOCUMENTATION:\n",
        "    return LLMArchitecture.__doc__\n",
        "  def GetModel(self,defaultAIModel:str=\"mistralai/Mistral-7B-Instruct-v0.1\")->MODEL:\n",
        "    DefineCredentials(typePass=\"hugging\")\n",
        "    llm = HuggingFaceHub(repo_id=defaultAIModel,\n",
        "                         task=\"text-generation\",\n",
        "                         model_kwargs={\"temperature\":0})\n",
        "    return llm"
      ],
      "metadata": {
        "id": "Md4ogDZhFe1k"
      },
      "execution_count": 13,
      "outputs": []
    },
    {
      "cell_type": "code",
      "source": [
        "optionHM = 'mistralai/Mistral-7B-Instruct-v0.1' # @param [\"mistralai/Mistral-7B-Instruct-v0.1\", \"tiiuae/falcon-7b\"]"
      ],
      "metadata": {
        "cellView": "form",
        "id": "3RA_aPAbPvo_"
      },
      "execution_count": null,
      "outputs": []
    },
    {
      "cell_type": "code",
      "source": [
        "%%capture\n",
        "llm = LLMArchitecture().GetModel(defaultAIModel=optionHM)"
      ],
      "metadata": {
        "id": "Cxl65U-SGFcC"
      },
      "execution_count": null,
      "outputs": []
    },
    {
      "cell_type": "markdown",
      "source": [
        "## OpenAI: 1.2.3"
      ],
      "metadata": {
        "id": "n1E2ZVusqak3"
      }
    },
    {
      "cell_type": "markdown",
      "source": [
        "### Agent"
      ],
      "metadata": {
        "id": "Uz-IgU8WrkRf"
      }
    },
    {
      "cell_type": "code",
      "source": [
        "from openai import OpenAI"
      ],
      "metadata": {
        "id": "iBl58A2tqfxO"
      },
      "execution_count": 15,
      "outputs": []
    },
    {
      "cell_type": "code",
      "source": [
        "class OpenAIAgent(object):\n",
        "  def __init__(self)->CLASSINIT:\n",
        "    self.modelType = modelGPT\n",
        "    self.instruction = (\n",
        "        \"You are an expert who analyzes video content and texts. \"\n",
        "        \"You fact-check these analyzes by comparing them with historical information. \"\n",
        "        \"Do research on the internet if necessary.\"\n",
        "    )\n",
        "  def __str__(self)->str:\n",
        "    return \"OpenAI Assistant Agent - Pre(Script)\"\n",
        "  def __call__(self)->NULL | None:\n",
        "    return None\n",
        "  def __getstate__(self)->ERROR:\n",
        "    ERRORMODULE().Default()\n",
        "  def __repr__(self)->DOCUMENTATION | str:\n",
        "    return OpenAIAgent.__doc__\n",
        "  def LoadModel(self)->MODEL:\n",
        "    if os.environ.get(\"OPENAI_API_KEY\") == \"\" or not os.environ.get(\"OPENAI_API_KEY\"):\n",
        "      DefineCredentials()\n",
        "    else:\n",
        "      pass\n",
        "    defaultModel = OpenAI()\n",
        "    return defaultModel\n",
        "  def Model(self,\n",
        "            initModel:MODEL,\n",
        "            timeout:int=300)->MODEL:\n",
        "    model = initModel.beta.assistants.create(model=self.modelType,\n",
        "                                             instructions=self.instruction,\n",
        "                                             tools=[{\"type\":\"retrieval\"},{\"type\":\"code_interpreter\"}],\n",
        "                                             name=\"Transcript-Expert-Assistant\",\n",
        "                                             description=\"Agent to analyze video transcripts\",\n",
        "                                             timeout=timeout)\n",
        "    return model"
      ],
      "metadata": {
        "id": "n8ocADnaq9Az"
      },
      "execution_count": 16,
      "outputs": []
    },
    {
      "cell_type": "markdown",
      "source": [
        "### Thread"
      ],
      "metadata": {
        "id": "EmDU6JiauSVx"
      }
    },
    {
      "cell_type": "code",
      "source": [
        "def ReturnThread()->PROCESS:\n",
        "  thread = openai.beta.threads.create()\n",
        "  return thread"
      ],
      "metadata": {
        "id": "f-vtaTF6uUM4"
      },
      "execution_count": 17,
      "outputs": []
    },
    {
      "cell_type": "markdown",
      "source": [
        "### Message"
      ],
      "metadata": {
        "id": "YT2_-ry1ukg0"
      }
    },
    {
      "cell_type": "code",
      "source": [
        "userPrompt = (\n",
        "    \"I have to find out whether what is said in this video is true or not. \"\n",
        "    \"Search for me. \"\n",
        "    \"Content and transcript related to video:\\n\"\n",
        "    )"
      ],
      "metadata": {
        "id": "UjxFX1UL0bbh"
      },
      "execution_count": 18,
      "outputs": []
    },
    {
      "cell_type": "code",
      "source": [
        "def ReturnThreadMessage(initModel:MODEL,\n",
        "                        threadID:PROCESS,\n",
        "                        defaultPrompt:str,\n",
        "                        defaultRole:str=\"user\")->PROCESS:\n",
        "  message = initModel.beta.threads.messages.create(thread_id=threadID.id,\n",
        "                                                   role=defaultRole,\n",
        "                                                   content=defaultPrompt)\n",
        "  return message"
      ],
      "metadata": {
        "id": "Brk1yZQsum4-"
      },
      "execution_count": 19,
      "outputs": []
    },
    {
      "cell_type": "markdown",
      "source": [
        "# Tools: Pre-Process"
      ],
      "metadata": {
        "id": "qLVKFC9qOdcx"
      }
    },
    {
      "cell_type": "markdown",
      "source": [
        "## Youtube"
      ],
      "metadata": {
        "id": "U7keVDBmOeea"
      }
    },
    {
      "cell_type": "code",
      "source": [
        "from langchain.document_loaders import YoutubeLoader"
      ],
      "metadata": {
        "id": "ukZvLD8IPLkJ"
      },
      "execution_count": 20,
      "outputs": []
    },
    {
      "cell_type": "code",
      "source": [
        "class YoutubeVideoExtraction(object):\n",
        "  def __init__(self)->CLASSINIT:\n",
        "    self.supportedLanguages = [\n",
        "        \"en\",\"tr\",\"es\",\"el\",\"da\",\"de\",\n",
        "        \"fr\",\"hi\",\"it\",\"pl\",\"sl\",\"sr\",\n",
        "        \"uk\",\"zh\",\"sk\"\n",
        "        ]\n",
        "  def __str__(self)->str:\n",
        "    return \"Youtube Content Extraction - Pre(Script)\"\n",
        "  def __call__(self)->NULL | None:\n",
        "    return None\n",
        "  def __getstate__(self)->ERROR:\n",
        "    ERRORMODULE().Default()\n",
        "  def __repr__(self)->DOCUMENTATION | str:\n",
        "    return YoutubeVideoExtraction.__doc__\n",
        "  def Search(self,url:URL | str)->str:\n",
        "    try:\n",
        "      try:\n",
        "        loader = YoutubeLoader.from_youtube_url(str(url),\n",
        "                                                add_video_info=True,\n",
        "                                                language=self.supportedLanguages,\n",
        "                                                translation=\"en\",\n",
        "                                                continue_on_failure=False)\n",
        "        documentMain = loader.load()\n",
        "      except:\n",
        "        vCode = url.split(\"v=\")\n",
        "        loader = YoutubeLoader.from_youtube_url(str(vCode[1]),\n",
        "                                                add_video_info=True,\n",
        "                                                language=self.supportedLanguages,\n",
        "                                                translation=\"en\",\n",
        "                                                continue_on_failure=False)\n",
        "        documentMain = loader.load()\n",
        "      if len(documentMain) > 0:\n",
        "        videoContent = documentMain[0].page_content\n",
        "        videoMetadata = documentMain[0].metadata\n",
        "        return (\n",
        "            \"#Video Content#\\n\"\n",
        "            f\"{str(videoContent)}\\n\"\n",
        "            \"#Video Metadata#\\n\"\n",
        "            f\"Title: {videoMetadata['title']}\\n\"\n",
        "            f\"Description: {videoMetadata['description']}\\n\"\n",
        "            f\"Publish Date: {videoMetadata['publish_date']}\\n\"\n",
        "            f\"Author: {videoMetadata['author']}\\n\"\n",
        "            f\"View: {videoMetadata['view_count']}\\n\"\n",
        "        )\n",
        "      else:\n",
        "        return \"Video is not within the scope of research -END-\"\n",
        "    except:\n",
        "      return \"An unexpected error occurred -The video is not available for review-\""
      ],
      "metadata": {
        "id": "-G3OngQIOVcO"
      },
      "execution_count": 21,
      "outputs": []
    },
    {
      "cell_type": "markdown",
      "source": [
        "# Assistant"
      ],
      "metadata": {
        "id": "nzvZ7fhemEo6"
      }
    },
    {
      "cell_type": "markdown",
      "source": [
        "## Agent: Design"
      ],
      "metadata": {
        "id": "JDkdM2AVnR7K"
      }
    },
    {
      "cell_type": "markdown",
      "source": [
        "### Process: Retrieve-Check"
      ],
      "metadata": {
        "id": "IlqJe8UjxQ2p"
      }
    },
    {
      "cell_type": "code",
      "source": [
        "class AgentBaseRetrieve(object):\n",
        "  def __init__(self)->CLASSINIT:\n",
        "    self.isOK = False\n",
        "  def __str__(self)->str:\n",
        "    return \"Agent Base Design - Pre(Script)\"\n",
        "  def __call__(self)->NULL | None:\n",
        "    return None\n",
        "  def __getstate__(self)->ERROR:\n",
        "    ERRORMODULE().Default()\n",
        "  def __repr__(self)->DOCUMENTATION:\n",
        "    return AgentBase.__doc__\n",
        "  def GetThreads(self,initModel:MODEL,threadID:str,assistantID:str)->PROCESS:\n",
        "    run = initModel.beta.threads.runs.create(\n",
        "        thread_id = str(threadID.id),\n",
        "        assistant_id = str(assistantID.id)\n",
        "    )\n",
        "    while True:\n",
        "      retr = initModel.beta.threads.runs.retrieve(\n",
        "          thread_id=str(threadID.id),\n",
        "          run_id=str(run.id)\n",
        "      )\n",
        "      if retr.completed_at:\n",
        "        self.isOK = True\n",
        "        break\n",
        "    return self.isOK"
      ],
      "metadata": {
        "id": "qLlVPzFnroAp"
      },
      "execution_count": 22,
      "outputs": []
    },
    {
      "cell_type": "markdown",
      "source": [
        "### Process: Message-Check"
      ],
      "metadata": {
        "id": "Eq0RjPY7xUKl"
      }
    },
    {
      "cell_type": "code",
      "source": [
        "class GetAgentMessage(object):\n",
        "  def __init__(self)->CLASSINIT:\n",
        "    self.timeout = 500\n",
        "  def __str__(self)->str:\n",
        "    return \"Gathering Agent Response - Pre(Script)\"\n",
        "  def __call__(self)->NULL | None:\n",
        "    return None\n",
        "  def __getstate__(self)->ERROR:\n",
        "    ERRORMODULE().Default()\n",
        "  def __repr__(self)->DOCUMENTATION | str:\n",
        "    return GetAgentMessage.__doc__\n",
        "  def Launch(self,initModel:MODEL,threadID:str)->str:\n",
        "    response = initModel.beta.threads.messages.list(thread_id=str(threadID.id),\n",
        "                                                    timeout=self.timeout)\n",
        "    message = response.data[0].content[0].text.value\n",
        "    return message"
      ],
      "metadata": {
        "id": "vm9fFHmcxexh"
      },
      "execution_count": 23,
      "outputs": []
    },
    {
      "cell_type": "markdown",
      "source": [
        "## Agent: Base"
      ],
      "metadata": {
        "id": "tzfRK_-jzl6_"
      }
    },
    {
      "cell_type": "markdown",
      "source": [
        "### Main Structure"
      ],
      "metadata": {
        "id": "kXHum9uULwNl"
      }
    },
    {
      "cell_type": "code",
      "source": [
        "assistantBase = OpenAIAgent().LoadModel()"
      ],
      "metadata": {
        "colab": {
          "base_uri": "https://localhost:8080/"
        },
        "id": "2gaawt2lyo_-",
        "outputId": "0e9d31e2-372c-4060-8df6-3ed0ca69e3c8"
      },
      "execution_count": 24,
      "outputs": [
        {
          "name": "stdout",
          "output_type": "stream",
          "text": [
            "Type Your OpenAI API Key > ··········\n"
          ]
        }
      ]
    },
    {
      "cell_type": "code",
      "source": [
        "assistantModel = OpenAIAgent().Model(initModel=assistantBase)"
      ],
      "metadata": {
        "id": "iPYsE4EfyYCI"
      },
      "execution_count": 25,
      "outputs": []
    },
    {
      "cell_type": "markdown",
      "source": [
        "# Tools: Main-Process"
      ],
      "metadata": {
        "id": "6GzQGWUaUN_v"
      }
    },
    {
      "cell_type": "code",
      "source": [
        "from langchain.tools import BaseTool\n",
        "from langchain.callbacks.manager import CallbackManagerForToolRun,AsyncCallbackManagerForToolRun"
      ],
      "metadata": {
        "id": "ecxmztpteeT1"
      },
      "execution_count": 26,
      "outputs": []
    },
    {
      "cell_type": "markdown",
      "source": [
        "## Youtube"
      ],
      "metadata": {
        "id": "47QpqRmIUQ1U"
      }
    },
    {
      "cell_type": "code",
      "source": [
        "class YoutubeTool(BaseTool):\n",
        "  name = \"Tool for Youtube videos analysis\"\n",
        "  description = \"Use this tool to analyze Youtube videos\"\n",
        "  def _run(self,\n",
        "           url:Optional[str],\n",
        "           run_manager:Optional[CallbackManagerForToolRun])->RESULT:\n",
        "    resultVideo = YoutubeVideoExtraction().Search(url)\n",
        "    promptUser = userPrompt + resultVideo\n",
        "    assistantThread = ReturnThread()\n",
        "    assistantThreadMessage = ReturnThreadMessage(initModel=assistantBase,\n",
        "                                             threadID=assistantThread,\n",
        "                                             defaultPrompt=promptUser)\n",
        "    isOK = AgentBaseRetrieve().GetThreads(initModel=assistantBase,\n",
        "                                      threadID=assistantThread,\n",
        "                                      assistantID=assistantModel)\n",
        "    if isOK:\n",
        "      answer = GetAgentMessage().Launch(initModel=assistantBase,\n",
        "                                  threadID=assistantThread)\n",
        "      return answer\n",
        "    else:\n",
        "      return \"No logical answer could be obtained -END-\"\n",
        "  def _arun(self,\n",
        "            url:Optional[str],\n",
        "            run_manager:Optional[AsyncCallbackManagerForToolRun])->ERROR:\n",
        "    ERRORMODULE().Default()"
      ],
      "metadata": {
        "id": "mnr7_mVHSE0t"
      },
      "execution_count": 27,
      "outputs": []
    },
    {
      "cell_type": "markdown",
      "source": [
        "# AGI"
      ],
      "metadata": {
        "id": "gfIPDmP08hHP"
      }
    },
    {
      "cell_type": "code",
      "source": [
        "from langchain.memory import ConversationBufferMemory,ReadOnlySharedMemory"
      ],
      "metadata": {
        "id": "qtaSscVq9ke6"
      },
      "execution_count": 28,
      "outputs": []
    },
    {
      "cell_type": "markdown",
      "source": [
        "## Structure: Command"
      ],
      "metadata": {
        "id": "4xoLNwB58jkx"
      }
    },
    {
      "cell_type": "code",
      "source": [
        "prefixMain = (\n",
        "    \"You are an expert who analyzes video content and texts. \"\n",
        "    \"You fact-check these analyzes by comparing them with historical information. \"\n",
        "    \"If possible, compare the information in the video with other \"\n",
        "    \"information found on the internet and uncover the truth. \"\n",
        "    \"Check out this video link given to you: {objective}\"\n",
        ")"
      ],
      "metadata": {
        "id": "_pkx0DotjnQU"
      },
      "execution_count": 29,
      "outputs": []
    },
    {
      "cell_type": "code",
      "source": [
        "suffixTasks = \"\"\"{agent_scratchpad}\"\"\""
      ],
      "metadata": {
        "id": "WyQvaYwk9R8S"
      },
      "execution_count": 30,
      "outputs": []
    },
    {
      "cell_type": "code",
      "source": [
        "agiInstruction = \"Choose the most appropriate tool according to the content of the objectives given to you.\""
      ],
      "metadata": {
        "id": "jMSZLcrS9TUe"
      },
      "execution_count": 31,
      "outputs": []
    },
    {
      "cell_type": "markdown",
      "source": [
        "## Structure: Memory"
      ],
      "metadata": {
        "id": "UDdNYgnG9bgL"
      }
    },
    {
      "cell_type": "code",
      "source": [
        "agiTaskMemory = ConversationBufferMemory(input_key=\"objective\",\n",
        "                                         memory_key=\"chat_history\")"
      ],
      "metadata": {
        "id": "iBFhchp79qKl"
      },
      "execution_count": 32,
      "outputs": []
    },
    {
      "cell_type": "code",
      "source": [
        "agiMemory = ReadOnlySharedMemory(memory=agiTaskMemory)"
      ],
      "metadata": {
        "id": "dBs2ndpK9ZR6"
      },
      "execution_count": 33,
      "outputs": []
    },
    {
      "cell_type": "markdown",
      "source": [
        "## Structure: Model"
      ],
      "metadata": {
        "id": "i1Kn-Hjc-GM_"
      }
    },
    {
      "cell_type": "code",
      "source": [
        "from langchain.chains.base import Chain\n",
        "from langchain.agents import initialize_agent,ZeroShotAgent,AgentExecutor\n",
        "from pydantic import BaseModel,Field\n",
        "from langchain.agents import AgentType\n",
        "from langchain.llms.base import BaseLLM\n",
        "from langchain.memory.chat_message_histories import FileChatMessageHistory"
      ],
      "metadata": {
        "id": "PahbwC8O-O6f"
      },
      "execution_count": 34,
      "outputs": []
    },
    {
      "cell_type": "code",
      "source": [
        "class ASSISTANTAGENT:\n",
        "  pass"
      ],
      "metadata": {
        "id": "TxceDCexH9g8"
      },
      "execution_count": 35,
      "outputs": []
    },
    {
      "cell_type": "code",
      "source": [
        "class HogwartsAGI(Chain,BaseModel):\n",
        "  agentExecutor:AgentExecutor = Field(...)\n",
        "  class Config:\n",
        "    arbitrary_types_allowed = True\n",
        "  @property\n",
        "  def input_keys(self)->List[str]:\n",
        "    return [\"objective\"]\n",
        "  @property\n",
        "  def output_keys(self)->List[str]:\n",
        "    return [\"result\"]\n",
        "  def _call(self,inputs:Optional[str])->Optional[str]:\n",
        "    if inputs[\"objective\"]:\n",
        "      url = inputs[\"objective\"]\n",
        "      resultVideo = YoutubeVideoExtraction().Search(url)\n",
        "      promptUser = userPrompt + resultVideo\n",
        "      assistantThread = ReturnThread()\n",
        "      assistantThreadMessage = ReturnThreadMessage(initModel=assistantBase,\n",
        "                                              threadID=assistantThread,\n",
        "                                              defaultPrompt=promptUser)\n",
        "      isOK = AgentBaseRetrieve().GetThreads(initModel=assistantBase,\n",
        "                                        threadID=assistantThread,\n",
        "                                        assistantID=assistantModel)\n",
        "      if isOK:\n",
        "        answer = GetAgentMessage().Launch(initModel=assistantBase,\n",
        "                                    threadID=assistantThread)\n",
        "        return {\"result\":str(answer)}\n",
        "      else:\n",
        "        return {\"result\":\"No logical answer could be obtained -END-\"}\n",
        "  @classmethod\n",
        "  def from_llm(cls,\n",
        "               llm:BaseLLM,\n",
        "               verbose:bool=False,\n",
        "               **kwargs)->MODEL:\n",
        "      executor = initialize_agent(agent=AgentType.ZERO_SHOT_REACT_DESCRIPTION,\n",
        "                                  tools=[YoutubeTool()],\n",
        "                                  llm=llm,\n",
        "                                  verbose=verbose,\n",
        "                                  max_iterations=20,\n",
        "                                  memory=agiMemory,\n",
        "                                  agent_instructions=agiInstruction,\n",
        "                                  handling_parsing_error=True,\n",
        "                                  chat_history_memory=FileChatMessageHistory(\"chat_history.txt\"))\n",
        "      agentTaskInitial = ZeroShotAgent.create_prompt(tools=[YoutubeTool()],\n",
        "                                                     prefix=prefixMain,\n",
        "                                                     suffix=suffixTasks,\n",
        "                                                     input_variables=[\"objective\",\"agent_scratchpad\"])\n",
        "      executor.agent.llm_chain.prompt = agentTaskInitial\n",
        "      return cls(agentExecutor=executor,\n",
        "                 **kwargs)\n",
        ""
      ],
      "metadata": {
        "id": "eOWoXQQv-B6o"
      },
      "execution_count": 36,
      "outputs": []
    },
    {
      "cell_type": "code",
      "source": [
        "Hogwarts = HogwartsAGI.from_llm(llm=llm,\n",
        "                                verbose=False)"
      ],
      "metadata": {
        "id": "RRxbU1QTIKM-"
      },
      "execution_count": 37,
      "outputs": []
    },
    {
      "cell_type": "code",
      "source": [
        "userInput = \"https://www.youtube.com/watch?v=6XnsYZxH2nI\""
      ],
      "metadata": {
        "id": "i6y7ppqOI9wx"
      },
      "execution_count": 42,
      "outputs": []
    },
    {
      "cell_type": "code",
      "source": [
        "Hogwarts({\"objective\":userInput})"
      ],
      "metadata": {
        "colab": {
          "base_uri": "https://localhost:8080/"
        },
        "id": "3OTKrqmeIU3Y",
        "outputId": "60f1759e-baa8-4193-b097-d51f763ee0d7"
      },
      "execution_count": 43,
      "outputs": [
        {
          "output_type": "execute_result",
          "data": {
            "text/plain": [
              "{'objective': 'https://www.youtube.com/watch?v=6XnsYZxH2nI',\n",
              " 'result': 'To verify the truthfulness of the statements contained in the video transcript, I will analyze each key point and provide evidence that supports or contradicts the claims:\\n\\n1. **Adolf Hitler\\'s Motivation**: There is historical consensus that Hitler aimed to eliminate the Jewish population as part of his ideology. This is supported by his writings in \"Mein Kampf\" and the implementation of the Holocaust during World War II.\\n\\n2. **Hitler\\'s Birth and Childhood**: Adolf Hitler was indeed born in Braunau am Inn, Austria, on April 20, 1889. Historical records support that his childhood included difficulties like the death of his father and poor academic performance.\\n\\n3. **Hitler\\'s Name**: The claim that Hitler\\'s name was originally \"Schickelberger\" is false. His actual name was Adolf Hitler. There were rumors and conspiracy theories about Hitler\\'s last name, but credible historical sources do not support this claim.\\n\\n4. **Hitler in World War I**: Hitler served as a soldier in World War I, and he did hold the rank of corporal. He was awarded the Iron Cross, First Class, for bravery.\\n\\n5. **Hitler\\'s Political Involvement Post-WWI**: After WWI, Hitler joined the German Workers\\' Party, which was indeed the precursor to the National Socialist German Workers\\' Party (Nazi Party).\\n\\n6. **The Beer Hall Putsch and Mein Kampf**: In 1923, Hitler did attempt to overthrow the Weimar Republic in what is known as the Beer Hall Putsch. After the coup failed, he was imprisoned, during which time he authored \"Mein Kampf.\"\\n\\n7. **Hitler Becomes Chancellor**: Hitler was appointed Chancellor of Germany on January 30, 1933. The Reichstag fire, a pivotal event in the establishment of Nazi Germany, occurred shortly thereafter on February 27, 1933.\\n\\n8. **Hitler\\'s Rise to Dictatorship**: After the Reichstag Fire, Hitler was granted emergency powers that facilitated his establishment of a totalitarian state.\\n\\n9. **World War II Timeline**: The video correctly outlines the major events and dates of World War II, including the invasion of Poland, Britain and France\\'s declaration of war, the invasion of the Soviet Union, the entrance of the United States into the war, and the Allied invasion of Normandy.\\n\\n10. **The Holocaust**: Historians estimate that approximately 6 million Jews were killed during the Holocaust. Hitler\\'s ideology and directions were central to the execution of this genocide.\\n\\n11. **Hitler\\'s Death**: Adolf Hitler committed suicide on April 30, 1945, in his bunker in Berlin. He married Eva Braun shortly before their suicide.\\n\\nGiven the general accuracy of the content – with the notable exception of the incorrect claim about Hitler\\'s original name being \"Schickelberger\" – the video presents a description of Hitler and his actions that aligns with historical facts. For further precision, specific historical references and documents could be consulted, but the main points in the video, aside from the error about Hitler\\'s name, are consistent with historical records.'}"
            ]
          },
          "metadata": {},
          "execution_count": 43
        }
      ]
    },
    {
      "cell_type": "code",
      "source": [],
      "metadata": {
        "id": "2seH6UZaJQb2"
      },
      "execution_count": 39,
      "outputs": []
    }
  ]
}