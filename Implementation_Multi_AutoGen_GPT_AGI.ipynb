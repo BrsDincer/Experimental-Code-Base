{
  "nbformat": 4,
  "nbformat_minor": 0,
  "metadata": {
    "colab": {
      "provenance": []
    },
    "kernelspec": {
      "name": "python3",
      "display_name": "Python 3"
    },
    "language_info": {
      "name": "python"
    }
  },
  "cells": [
    {
      "cell_type": "markdown",
      "source": [
        "# <font color=\"#38db02\">Author</font>\n",
        "\n",
        "Coder: <font color=\"#38db02\"> Baris Dincer</font>\n",
        "\n",
        "Department: <font color=\"#38db02\">Artificial Intelligence - Lead / CO-Founder of LUX & Memoriae</font>\n",
        "\n",
        "Affiliated: <font color=\"#38db02\"> LUX Space Science & Technology - Memoriae Technology\n",
        "\n",
        "## Account\n",
        "\n",
        "- LinkedIn:\n",
        "[LinkedIn](https://www.linkedin.com/in/brs-dincer/)\n",
        "\n",
        "- Kaggle:\n",
        "[Kaggle](https://www.kaggle.com/brsdincer)\n",
        "\n",
        "## Project Description\n",
        "\n",
        "- Establishing the AGI principle by making experimental approaches and creating external tools on the custom assistant announced by OpenAI within the scope of DevDay\n",
        "\n",
        ">`NOTE: Huggingface and OpenAI API values are required.`"
      ],
      "metadata": {
        "id": "_wRBgxlhS0k-"
      }
    },
    {
      "cell_type": "markdown",
      "source": [
        "# General Approaches"
      ],
      "metadata": {
        "id": "kkAAQjaAevXQ"
      }
    },
    {
      "cell_type": "markdown",
      "source": [
        "## Utils-Classes"
      ],
      "metadata": {
        "id": "AK25701EexlO"
      }
    },
    {
      "cell_type": "code",
      "execution_count": 1,
      "metadata": {
        "id": "CTMGxoA-eMym"
      },
      "outputs": [],
      "source": [
        "class CLASSINIT:\n",
        "  pass\n",
        "class MODEL:\n",
        "  pass\n",
        "class DOCUMENTATION:\n",
        "  pass\n",
        "class NULL:\n",
        "  pass\n",
        "class ERROR:\n",
        "  pass\n",
        "class URL:\n",
        "  pass\n",
        "class PROCESS:\n",
        "  pass\n",
        "class RESULT:\n",
        "  pass\n",
        "class IMAGE:\n",
        "  pass\n",
        "class DATA:\n",
        "  pass"
      ]
    },
    {
      "cell_type": "markdown",
      "source": [
        "## Utils-Modules"
      ],
      "metadata": {
        "id": "nSRbY8fMe_d1"
      }
    },
    {
      "cell_type": "code",
      "source": [
        "import os,shutil\n",
        "from typing import Union,Optional,List,Dict,Any,Dict,Type"
      ],
      "metadata": {
        "id": "e8O2bDuie-zn"
      },
      "execution_count": 2,
      "outputs": []
    },
    {
      "cell_type": "code",
      "source": [
        "moduleList:list = [\n",
        "    '\"pyautogen~=0.2.0b2\" Langchain',\n",
        "    'langchain_experimental',\n",
        "    'cohere',\n",
        "    'tiktoken',\n",
        "    'youtube-transcript-api',\n",
        "    'pytube',\n",
        "    'wikipedia',\n",
        "    'duckduckgo-search',\n",
        "    'arxiv',\n",
        "    'huggingface_hub'\n",
        "]"
      ],
      "metadata": {
        "id": "uGL9XwF4fIaq"
      },
      "execution_count": 89,
      "outputs": []
    },
    {
      "cell_type": "code",
      "source": [
        "%%capture\n",
        "for module in moduleList:\n",
        "  %pip install $module"
      ],
      "metadata": {
        "id": "yYG-U-Y4fVKu"
      },
      "execution_count": 4,
      "outputs": []
    },
    {
      "cell_type": "code",
      "source": [
        "import openai,autogen\n",
        "from openai import OpenAI"
      ],
      "metadata": {
        "id": "sdhFd16gfZ5k"
      },
      "execution_count": 5,
      "outputs": []
    },
    {
      "cell_type": "markdown",
      "source": [
        "## Utils-Functions"
      ],
      "metadata": {
        "id": "ouRK0XyQfg5X"
      }
    },
    {
      "cell_type": "code",
      "source": [
        "CREATEDIRECTORY:PROCESS = lambda x: os.mkdir(x) if not os.path.exists(x) else None\n",
        "DELETEDIRECTORY:PROCESS = lambda x: shutil.rmtree(x) if len(os.listdir(x)) > 1 else None\n",
        "SORTDIRECTORY:PROCESS = lambda x: int(x.rsplit(\"_\",1)[-1].split(\".\")[0])\n",
        "TERMINATION:PROCESS = lambda x: x.get(\"content\",\"\") and x.get(\"content\",\"\").rstrip().endswith(\"TERMINATE\")"
      ],
      "metadata": {
        "id": "CyTam7I0fgA6"
      },
      "execution_count": 6,
      "outputs": []
    },
    {
      "cell_type": "code",
      "source": [
        "class ERRORMODULE(object):\n",
        "  def __init__(self)->CLASSINIT:\n",
        "    self.error:ERROR = NotImplementedError(NotImplemented)\n",
        "  def __str__(self)->str:\n",
        "    return \"Error Module - Sub(Script)\"\n",
        "  def __call__(self)->ERROR:\n",
        "    return self.error\n",
        "  def __getstate__(self)->ERROR:\n",
        "    raise self.error\n",
        "  def __repr__(self)->DOCUMENTATION | str:\n",
        "    return ERRORMODULE.__doc__\n",
        "  @property\n",
        "  def Default(self)->ERROR:\n",
        "    raise self.error"
      ],
      "metadata": {
        "id": "bh4rkmLMf_4s"
      },
      "execution_count": 7,
      "outputs": []
    },
    {
      "cell_type": "code",
      "source": [
        "class READTXT(object):\n",
        "  def __init__(self,filePath:str)->CLASSINIT:\n",
        "    self.path = filePath\n",
        "    self.ops = None\n",
        "  def __str__(self)->str:\n",
        "    return \"Reading TXT Files - Sub(Script)\"\n",
        "  def __call__(self)->NULL | None:\n",
        "    return None\n",
        "  def __getstate__(self)->ERROR:\n",
        "    ERRORMODULE().Default\n",
        "  def __repr__(self)->DOCUMENTATION | str:\n",
        "    return READTXT.__doc__\n",
        "  def Read(self)->PROCESS:\n",
        "    return self.ops.read()\n",
        "  def __enter__(self)->PROCESS:\n",
        "    self.ops = open(self.path,\"r\",errors=\"replace\",encoding=\"utf-8\")\n",
        "    return self\n",
        "  def __exit__(self,ety:CLASSINIT,etb:CLASSINIT,evl:CLASSINIT)->PROCESS:\n",
        "    self.ops.exit()"
      ],
      "metadata": {
        "id": "CPAJqSeqgacc"
      },
      "execution_count": 8,
      "outputs": []
    },
    {
      "cell_type": "code",
      "source": [
        "def DEFINECREDENTIALS(typePass:str=\"openai\")->RESULT:\n",
        "  from getpass import getpass\n",
        "  if typePass.lower() == \"openai\":\n",
        "    if not os.environ.get(\"OPENAI_API_KEY\"):\n",
        "      userInput = getpass(\"Type your OpenAI API KEY here > \")\n",
        "      if (userInput) and (userInput != \" \"):\n",
        "        globals()[\"OPENAI_KEY\"] = str(userInput)\n",
        "        os.environ[\"OPENAI_API_KEY\"] = str(userInput)\n",
        "        openai.api_key = str(os.environ.get(\"OPENAI_API_KEY\"))\n",
        "      else:\n",
        "        DEFINECREDENTIALS()\n",
        "    else:\n",
        "      globals()[\"OPENAI_KEY\"] = str(os.environ.get(\"OPENAI_API_KEY\"))\n",
        "      openai.api_key = str(os.environ.get(\"OPENAI_API_KEY\"))\n",
        "  else:\n",
        "    if not os.environ.get(\"HUGGINGFACEHUB_API_TOKEN\"):\n",
        "      userInput = getpass(\"Type your Hugging-Face API KEY here > \")\n",
        "      if (userInput) and (userInput != \" \"):\n",
        "        globals()[\"HUGGING_API\"] = str(userInput)\n",
        "        os.environ[\"HUGGINGFACEHUB_API_TOKEN\"] = str(userInput)\n",
        "        !huggingface-cli login --token $HUGGING_API\n",
        "      else:\n",
        "        DEFINECREDENTIALS()\n",
        "    else:\n",
        "      globals()[\"HUGGING_API\"] = str(os.environ.get(\"HUGGINGFACEHUB_API_TOKEN\"))\n",
        "      !huggingface-cli login --token $HUGGING_API"
      ],
      "metadata": {
        "id": "B3dEEgFXhAna"
      },
      "execution_count": 99,
      "outputs": []
    },
    {
      "cell_type": "code",
      "source": [
        "def CREATEINPUTURL(initURL:URL | str)->PROCESS:\n",
        "  return {\n",
        "      \"type\":\"image_url\",\n",
        "      \"image_url\":str(initURL)\n",
        "  }"
      ],
      "metadata": {
        "id": "ova3ZqlQsTzg"
      },
      "execution_count": 311,
      "outputs": []
    },
    {
      "cell_type": "code",
      "source": [
        "def CREATEINPUTTEXT(initTEXT:str)->PROCESS:\n",
        "  return {\n",
        "      \"type\":\"text\",\n",
        "      \"text\":str(initTEXT)\n",
        "  }"
      ],
      "metadata": {
        "id": "DDvxUkPdsnXE"
      },
      "execution_count": 312,
      "outputs": []
    },
    {
      "cell_type": "markdown",
      "source": [
        "## Utils-Constants"
      ],
      "metadata": {
        "id": "GLqpXi_AiD2z"
      }
    },
    {
      "cell_type": "code",
      "source": [
        "DEFINECREDENTIALS()"
      ],
      "metadata": {
        "colab": {
          "base_uri": "https://localhost:8080/"
        },
        "id": "lILVoo7wxx4H",
        "outputId": "ae85457a-b148-42d3-8c4e-ae4dc90f80f4"
      },
      "execution_count": 10,
      "outputs": [
        {
          "name": "stdout",
          "output_type": "stream",
          "text": [
            "Type your OpenAI API KEY here > ··········\n"
          ]
        }
      ]
    },
    {
      "cell_type": "code",
      "source": [
        "autogenConfiguration:list = [\n",
        "    {\n",
        "        \"model\":\"gpt-4-1106-preview\",\n",
        "        \"api_key\":os.environ.get(\"OPENAI_API_KEY\")\n",
        "    },\n",
        "    {\n",
        "        \"model\":\"gpt-4-vision-preview\",\n",
        "        \"api_key\":os.environ.get(\"OPENAI_API_KEY\")\n",
        "    }\n",
        "]"
      ],
      "metadata": {
        "id": "DCIjKCI-h7zx"
      },
      "execution_count": 249,
      "outputs": []
    },
    {
      "cell_type": "markdown",
      "source": [
        "# Visual Model Configuration"
      ],
      "metadata": {
        "id": "kGGClasXs4va"
      }
    },
    {
      "cell_type": "markdown",
      "source": [
        "## Message"
      ],
      "metadata": {
        "id": "bcElFJQHs73I"
      }
    },
    {
      "cell_type": "code",
      "source": [
        "message = dict()\n",
        "message[\"role\"] = \"user\"\n",
        "message[\"content\"] = []"
      ],
      "metadata": {
        "id": "Diz1OA3Ds7X6"
      },
      "execution_count": 313,
      "outputs": []
    },
    {
      "cell_type": "markdown",
      "source": [
        "## Structure"
      ],
      "metadata": {
        "id": "KI-cAnHEtNf1"
      }
    },
    {
      "cell_type": "code",
      "source": [
        "class VisualModel(object):\n",
        "  def __init__(self)->CLASSINIT:\n",
        "    self.defaultCommand = (\n",
        "        \"Describe everything you see here in detail and tell us about its features, if any. \"\n",
        "        \"Determine your answer according to what is asked of you.\"\n",
        "    )\n",
        "    self.modelType = \"gpt-4-vision-preview\"\n",
        "  def __str__(self)->str:\n",
        "    return \"Visual Model Structure - Pre(Script)\"\n",
        "  def __call__(self)->NULL | None:\n",
        "    return None\n",
        "  def __getstate__(self)->ERROR:\n",
        "    ERRORMODULE().Default\n",
        "  def __repr__(self)->DOCUMENTATION | str:\n",
        "    return VisualModel.__doc__\n",
        "  def LoadModel(self)->MODEL:\n",
        "    return OpenAI()\n",
        "  def Get(self,\n",
        "          initModel:MODEL,\n",
        "          initURL:URL | str,\n",
        "          temperature:int or float=0,\n",
        "          presence:int or float=2.0,\n",
        "          frequency:int or float=1.0,\n",
        "          timeout:int=300,\n",
        "          maxToken:int=300)->MODEL:\n",
        "    message[\"content\"].append(CREATEINPUTURL(str(initURL)))\n",
        "    message[\"content\"].append(CREATEINPUTTEXT(self.defaultCommand))\n",
        "    model = initModel.chat.completions.create(\n",
        "        model=self.modelType,\n",
        "        max_tokens=maxToken,\n",
        "        timeout=timeout,\n",
        "        temperature=temperature,\n",
        "        frequency_penalty=frequency,\n",
        "        presence_penalty=presence,\n",
        "        messages=[message]\n",
        "    )\n",
        "    if model.choices[0].finish_details[\"type\"].lower() == \"stop\":\n",
        "      return model.choices[0].message.content\n",
        "    else:\n",
        "      return \"Visual Model cannot response for that moment - MODEL CRASH - \""
      ],
      "metadata": {
        "id": "Z1_X5s6itPA8"
      },
      "execution_count": 331,
      "outputs": []
    },
    {
      "cell_type": "markdown",
      "source": [
        "# Tool Configuration Functions"
      ],
      "metadata": {
        "id": "jCNnNCOAiUPT"
      }
    },
    {
      "cell_type": "markdown",
      "source": [
        "## Generate"
      ],
      "metadata": {
        "id": "a9HbOGwNjRlY"
      }
    },
    {
      "cell_type": "code",
      "source": [
        "def GenerateToolConfiguration(toolBase:CLASSINIT)->PROCESS:\n",
        "  schema = {\n",
        "      \"name\":toolBase.name.lower().replace(\" \",\"_\") if \" \" in toolBase.name else toolBase.name,\n",
        "      \"description\":toolBase.description,\n",
        "      \"parameters\":{\n",
        "          \"type\":\"object\",\n",
        "          \"properties\":{},\n",
        "          \"required\":[]\n",
        "      }\n",
        "  }\n",
        "  if toolBase.args is not None:\n",
        "    schema[\"parameters\"][\"properties\"] = toolBase.args\n",
        "  else:\n",
        "    pass\n",
        "  return schema"
      ],
      "metadata": {
        "id": "qMWgC9oWiQ1G"
      },
      "execution_count": 250,
      "outputs": []
    },
    {
      "cell_type": "markdown",
      "source": [
        "## Return"
      ],
      "metadata": {
        "id": "KFvBTsHsjSst"
      }
    },
    {
      "cell_type": "code",
      "source": [
        "def ReturnLLMConfiguration(configParameter:dict,\n",
        "                           toolBase:CLASSINIT,\n",
        "                           defaultParameter:str=\"functions\")->dict:\n",
        "    configParameter[defaultParameter].append(GenerateToolConfiguration(toolBase=toolBase))"
      ],
      "metadata": {
        "id": "BYfm2rSti6qF"
      },
      "execution_count": 251,
      "outputs": []
    },
    {
      "cell_type": "markdown",
      "source": [
        "# LLM"
      ],
      "metadata": {
        "id": "6a-TDwfTwRdy"
      }
    },
    {
      "cell_type": "code",
      "source": [
        "from langchain.llms import HuggingFaceHub"
      ],
      "metadata": {
        "id": "0Q2IGvMqwSjz"
      },
      "execution_count": 252,
      "outputs": []
    },
    {
      "cell_type": "markdown",
      "source": [
        "## Architecture"
      ],
      "metadata": {
        "id": "W_rqpziZwTZv"
      }
    },
    {
      "cell_type": "code",
      "source": [
        "class ReturnLLM(object):\n",
        "  def __init__(self)->CLASSINIT:\n",
        "    pass\n",
        "  def __str__(self)->str:\n",
        "    return \"Create LLM For Process - Sub(Script)\"\n",
        "  def __call__(self)->NULL | None:\n",
        "    return None\n",
        "  def __getstate__(self)->ERROR:\n",
        "    ERRORMODULE().Default\n",
        "  def __repr__(self)->DOCUMENTATION | str:\n",
        "    return ReturnLLM.__doc__\n",
        "  def Get(self,defaultModel:str=\"mistralai/Mistral-7B-Instruct-v0.1\")->MODEL:\n",
        "    DEFINECREDENTIALS(typePass=\"hugging\")\n",
        "    llm = HuggingFaceHub(repo_id=defaultModel,\n",
        "                         task=\"text-generation\",\n",
        "                         model_kwargs={\"temperature\":0.1})\n",
        "    return llm"
      ],
      "metadata": {
        "id": "yAUJ0UxQwYxw"
      },
      "execution_count": 253,
      "outputs": []
    },
    {
      "cell_type": "markdown",
      "source": [
        "## Model"
      ],
      "metadata": {
        "id": "D7X0SGWE8y4V"
      }
    },
    {
      "cell_type": "code",
      "source": [
        "%%capture\n",
        "mistralLLM = ReturnLLM().Get(defaultModel=\"mistralai/Mistral-7B-Instruct-v0.1\")"
      ],
      "metadata": {
        "id": "R9BsiZg3xy7z"
      },
      "execution_count": 254,
      "outputs": []
    },
    {
      "cell_type": "markdown",
      "source": [
        "# Tools: Pre-Process"
      ],
      "metadata": {
        "id": "rIlKt9FOjQiF"
      }
    },
    {
      "cell_type": "code",
      "source": [
        "from langchain.pydantic_v1 import BaseModel,Field"
      ],
      "metadata": {
        "id": "OutXqmiNjZD5"
      },
      "execution_count": 255,
      "outputs": []
    },
    {
      "cell_type": "markdown",
      "source": [
        "## Youtube"
      ],
      "metadata": {
        "id": "hoasMPjzjXeZ"
      }
    },
    {
      "cell_type": "code",
      "source": [
        "from langchain.document_loaders import YoutubeLoader"
      ],
      "metadata": {
        "id": "5sqA4CF0kPf9"
      },
      "execution_count": 256,
      "outputs": []
    },
    {
      "cell_type": "code",
      "source": [
        "class YoutubeTranscriptExtraction(object):\n",
        "  def __init__(self)->CLASSINIT:\n",
        "    self.languages = [\n",
        "        \"en\",\"tr\",\"es\",\"el\",\"da\",\"de\",\n",
        "        \"fr\",\"hi\",\"it\",\"pl\",\"sl\",\"sr\",\n",
        "        \"uk\",\"zh\",\"sk\"\n",
        "        ]\n",
        "    self.translation = \"en\"\n",
        "  def __str__(self)->str:\n",
        "    return \"Youtube Video - Transcript Extraction - Pre(Script)\"\n",
        "  def __call__(self)->NULL | None:\n",
        "    return None\n",
        "  def __getstate__(self)->ERROR:\n",
        "    ERRORMODULE().Default\n",
        "  def __repr__(self)->DOCUMENTATION | str:\n",
        "    return YoutubeTranscriptExtraction.__doc__\n",
        "  def Run(self,url:URL | str)->str:\n",
        "    loader = YoutubeLoader.from_youtube_url(\n",
        "        str(url),\n",
        "        add_video_info=True,\n",
        "        language=self.languages,\n",
        "        translation=self.translation,\n",
        "        continue_on_failure=True\n",
        "    )\n",
        "    document = loader.load()\n",
        "    if len(document) > 0:\n",
        "      content = document[0].page_content\n",
        "      metadata = document[0].metadata\n",
        "      return (\n",
        "          \"Video Content\\n\"\n",
        "          f\"{str(content)}\\n\"\n",
        "          \"Video Metadata\\n\"\n",
        "          f\"Title: {metadata['title']}\\n\"\n",
        "          f\"Description: {metadata['description']}\\n\"\n",
        "          f\"Publish Date: {metadata['publish_date']}\\n\"\n",
        "          f\"Author: {metadata['author']}\\n\"\n",
        "          f\"View: {metadata['view_count']}\\n\"\n",
        "      )"
      ],
      "metadata": {
        "id": "A7fiVX-MjMGS"
      },
      "execution_count": 257,
      "outputs": []
    },
    {
      "cell_type": "code",
      "source": [
        "class YoutubeURLInput(BaseModel):\n",
        "  url:str = Field()"
      ],
      "metadata": {
        "id": "dmnzsTVCk4LY"
      },
      "execution_count": 258,
      "outputs": []
    },
    {
      "cell_type": "markdown",
      "source": [
        "## Wikipedia"
      ],
      "metadata": {
        "id": "rOg8ebFMoeQg"
      }
    },
    {
      "cell_type": "code",
      "source": [
        "class WikipediaTextInput(BaseModel):\n",
        "  query:str = Field()"
      ],
      "metadata": {
        "id": "2OGkA16_of0B"
      },
      "execution_count": 259,
      "outputs": []
    },
    {
      "cell_type": "markdown",
      "source": [
        "## Internet Search"
      ],
      "metadata": {
        "id": "Tcjlt7pUrWxO"
      }
    },
    {
      "cell_type": "code",
      "source": [
        "class InternetSearchTextInput(BaseModel):\n",
        "  query:str = Field()"
      ],
      "metadata": {
        "id": "8j7Apt2DrYZx"
      },
      "execution_count": 260,
      "outputs": []
    },
    {
      "cell_type": "markdown",
      "source": [
        "## Arxiv"
      ],
      "metadata": {
        "id": "29kQPd5SrcRl"
      }
    },
    {
      "cell_type": "code",
      "source": [
        "class ArxivSearchTextInput(BaseModel):\n",
        "  objective:str = Field()"
      ],
      "metadata": {
        "id": "lDRIw4hSreF8"
      },
      "execution_count": 261,
      "outputs": []
    },
    {
      "cell_type": "markdown",
      "source": [
        "## Python"
      ],
      "metadata": {
        "id": "4ND1wGjuuqo_"
      }
    },
    {
      "cell_type": "code",
      "source": [
        "class PythonQueryInput(BaseModel):\n",
        "  query:str = Field()"
      ],
      "metadata": {
        "id": "PZvIVAmnurzo"
      },
      "execution_count": 262,
      "outputs": []
    },
    {
      "cell_type": "markdown",
      "source": [
        "## Bash Scripting"
      ],
      "metadata": {
        "id": "cdpjt60K5-d5"
      }
    },
    {
      "cell_type": "code",
      "source": [
        "class BashQueryInput(BaseModel):\n",
        "  query:str = Field()"
      ],
      "metadata": {
        "id": "Ad2kYwjb5_4N"
      },
      "execution_count": 263,
      "outputs": []
    },
    {
      "cell_type": "markdown",
      "source": [
        "## Finance Search"
      ],
      "metadata": {
        "id": "8Klrn8zzLJl7"
      }
    },
    {
      "cell_type": "code",
      "source": [
        "class FinanceQueryInput(BaseModel):\n",
        "  query:str = Field()"
      ],
      "metadata": {
        "id": "5zXSStEVLLsI"
      },
      "execution_count": 264,
      "outputs": []
    },
    {
      "cell_type": "markdown",
      "source": [
        "## Visual Model URL"
      ],
      "metadata": {
        "id": "uSjRXA09vDlG"
      }
    },
    {
      "cell_type": "code",
      "source": [
        "class VisualModelInput(BaseModel):\n",
        "  url:str = Field()"
      ],
      "metadata": {
        "id": "V23bVNfLvGvI"
      },
      "execution_count": 315,
      "outputs": []
    },
    {
      "cell_type": "markdown",
      "source": [
        "# Tools: Functions"
      ],
      "metadata": {
        "id": "-slzWWjDlL04"
      }
    },
    {
      "cell_type": "code",
      "source": [
        "from langchain.tools import BaseTool\n",
        "from langchain.tools.file_management.read import ReadFileTool\n",
        "from langchain.agents import AgentType"
      ],
      "metadata": {
        "id": "hGpQtb06r2dr"
      },
      "execution_count": 265,
      "outputs": []
    },
    {
      "cell_type": "markdown",
      "source": [
        "## Youtube"
      ],
      "metadata": {
        "id": "P-u8k9oArbDg"
      }
    },
    {
      "cell_type": "code",
      "source": [
        "class YoutubeExtractionTool(BaseTool):\n",
        "  name = \"Youtube_Transcript_Extraction\"\n",
        "  description = \"Use this tool when you need to analyze Youtube videos and extract transcript from video\"\n",
        "  args_schema: Type[BaseTool] = YoutubeURLInput\n",
        "  def _run(self,url:URL | str)->RESULT:\n",
        "    videoTranscript = YoutubeTranscriptExtraction().Run(url=url)\n",
        "    return videoTranscript"
      ],
      "metadata": {
        "id": "yhkyQ7xtlIxS"
      },
      "execution_count": 266,
      "outputs": []
    },
    {
      "cell_type": "markdown",
      "source": [
        "## Wikipedia"
      ],
      "metadata": {
        "id": "v6SB0qhEoRPH"
      }
    },
    {
      "cell_type": "code",
      "source": [
        "from langchain.utilities import WikipediaAPIWrapper\n",
        "from langchain.tools import WikipediaQueryRun"
      ],
      "metadata": {
        "id": "4KDs4dWioSlx"
      },
      "execution_count": 267,
      "outputs": []
    },
    {
      "cell_type": "code",
      "source": [
        "class WikipediaSearchTool(BaseTool):\n",
        "  name = \"Wikipedia_Search\"\n",
        "  description = \"Use this tool when you need to search topics or objectives\"\n",
        "  args_schema: Type[BaseTool] = WikipediaTextInput\n",
        "  def _run(self,query:Optional[str])->RESULT:\n",
        "    searchWrapper = WikipediaAPIWrapper(\n",
        "        doc_content_chars_max=3000,\n",
        "        lang=\"en\",\n",
        "        top_k_results=1\n",
        "    )\n",
        "    engine = WikipediaQueryRun(api_wrapper=searchWrapper)\n",
        "    searchResult = engine.run(str(query))\n",
        "    return searchResult"
      ],
      "metadata": {
        "id": "H9JEyKrGon2U"
      },
      "execution_count": 268,
      "outputs": []
    },
    {
      "cell_type": "markdown",
      "source": [
        "## Internet Search"
      ],
      "metadata": {
        "id": "iDiUyG_rptug"
      }
    },
    {
      "cell_type": "code",
      "source": [
        "from langchain.tools import DuckDuckGoSearchRun\n",
        "from langchain.utilities import DuckDuckGoSearchAPIWrapper"
      ],
      "metadata": {
        "id": "4rmmBgWhpvsQ"
      },
      "execution_count": 269,
      "outputs": []
    },
    {
      "cell_type": "code",
      "source": [
        "class InternetSearchTool(BaseTool):\n",
        "  name = \"Internet_Search\"\n",
        "  description = \"Use this tool when you need to search topics or objective on internet\"\n",
        "  args_schema: Type[BaseTool] = InternetSearchTextInput\n",
        "  def _run(self,query:Optional[str])->RESULT:\n",
        "    searchWrapper = DuckDuckGoSearchAPIWrapper(\n",
        "        time=\"d\",\n",
        "        max_results=1\n",
        "    )\n",
        "    engine = DuckDuckGoSearchRun(api_wrapper=searchWrapper,\n",
        "                                 backend=\"api\")\n",
        "    searchResult = engine.run(str(query))\n",
        "    return searchResult"
      ],
      "metadata": {
        "id": "esBroa31p7Ki"
      },
      "execution_count": 270,
      "outputs": []
    },
    {
      "cell_type": "markdown",
      "source": [
        "## Arxiv"
      ],
      "metadata": {
        "id": "xteyI07Iqm9c"
      }
    },
    {
      "cell_type": "code",
      "source": [
        "from langchain.utilities.arxiv import ArxivAPIWrapper"
      ],
      "metadata": {
        "id": "APrXoPWEqoAE"
      },
      "execution_count": 271,
      "outputs": []
    },
    {
      "cell_type": "code",
      "source": [
        "class ArxivSearchTool(BaseTool):\n",
        "  name = \"Article_Search\"\n",
        "  description = \"Use this tool when you need to search articles, topics and objectives\"\n",
        "  args_schema: Type[BaseTool] = ArxivSearchTextInput\n",
        "  def _run(self,objective:Optional[str])->RESULT:\n",
        "    wrapper = ArxivAPIWrapper(\n",
        "        top_k_results=5,\n",
        "        ARXIV_MAX_QUERY_LENGTH=500,\n",
        "        load_max_docs=5,\n",
        "        load_all_available_meta=True,\n",
        "        doc_content_chars_max=10000\n",
        "    )\n",
        "    searchResult = wrapper.run(str(objective))\n",
        "    return searchResult"
      ],
      "metadata": {
        "id": "p0JHDInfqwyd"
      },
      "execution_count": 272,
      "outputs": []
    },
    {
      "cell_type": "markdown",
      "source": [
        "## Python"
      ],
      "metadata": {
        "id": "4XpHt8rJuxlv"
      }
    },
    {
      "cell_type": "code",
      "source": [
        "from langchain_experimental.tools.python.tool import PythonREPLTool\n",
        "from langchain_experimental.agents.agent_toolkits import create_python_agent"
      ],
      "metadata": {
        "id": "03mbD36JuyjL"
      },
      "execution_count": 273,
      "outputs": []
    },
    {
      "cell_type": "code",
      "source": [
        "class PythonCodeTool(BaseTool):\n",
        "  name = \"Python_Code_Engine\"\n",
        "  description = (\n",
        "      \"Use this tool when you need to create sample code for python, run the code and analyze codes for objectives and topics. \"\n",
        "      \"Run it and get sample output. \"\n",
        "      \"If you get an error as output, just give the code example.\"\n",
        "  )\n",
        "  args_schema: Type[BaseTool] = PythonQueryInput\n",
        "  def _run(self,query:Optional[str])->RESULT:\n",
        "    description = (\n",
        "        \"Use this to execute python commands. Input should be a valid python command. \"\n",
        "        \"If you want to see the output of a value, you should print it out with `print(...)`. \"\n",
        "        \"Write detailed codes related to objectives.\"\n",
        "    )\n",
        "    pythonEngine = PythonREPLTool(\n",
        "        description=description,\n",
        "        name=\"Python_Code_Engine\",\n",
        "        verbose=False\n",
        "    )\n",
        "    executor = create_python_agent(llm=mistralLLM,\n",
        "                                   tool=pythonEngine,\n",
        "                                   verbose=False,\n",
        "                                   agent_type=AgentType.ZERO_SHOT_REACT_DESCRIPTION,\n",
        "                                   agent_executor_kwargs={\"handle_parsing_error\":True})\n",
        "    result = executor.run(str(query))\n",
        "    return result"
      ],
      "metadata": {
        "id": "5l236ElTvVqj"
      },
      "execution_count": 274,
      "outputs": []
    },
    {
      "cell_type": "markdown",
      "source": [
        "## Bash Scripting"
      ],
      "metadata": {
        "id": "8RsviPmX6GDb"
      }
    },
    {
      "cell_type": "code",
      "source": [
        "from langchain.tools import ShellTool\n",
        "from langchain_experimental.llm_bash.base import LLMBashChain\n",
        "from langchain.agents import initialize_agent"
      ],
      "metadata": {
        "id": "304Dy5IC6HEu"
      },
      "execution_count": 275,
      "outputs": []
    },
    {
      "cell_type": "code",
      "source": [
        "shellTool = ShellTool()"
      ],
      "metadata": {
        "id": "4V40SuZA75aF"
      },
      "execution_count": 276,
      "outputs": []
    },
    {
      "cell_type": "code",
      "source": [
        "class BashScriptTool(BaseTool):\n",
        "  name = \"Bash_Code_Engine\"\n",
        "  description = (\n",
        "      \"Use this tool when you need to create sample code for sh, run the code and analyze codes for objectives and topics. \"\n",
        "      \"Run it and get sample output. \"\n",
        "      \"If you get an error as output, just give the code example.\"\n",
        "  )\n",
        "  args_schema: Type[BaseTool] = BashQueryInput\n",
        "  def _run(self,query:Optional[str])->RESULT:\n",
        "    shellTool.description = shellTool.description + \" \" + self.description + f\" args {self.args_schema}\".replace(\"{\",\"{{\").replace(\"}\",\"}}\")\n",
        "    engine = initialize_agent([shellTool],\n",
        "                              mistralLLM,\n",
        "                              agent=AgentType.CHAT_ZERO_SHOT_REACT_DESCRIPTION,\n",
        "                              verbose=True)\n",
        "    result = engine.run(str(query))\n",
        "    return result"
      ],
      "metadata": {
        "id": "42zy99SA6bKb"
      },
      "execution_count": 277,
      "outputs": []
    },
    {
      "cell_type": "markdown",
      "source": [
        "## Finance Search"
      ],
      "metadata": {
        "id": "9U6nfDWuLQ3N"
      }
    },
    {
      "cell_type": "code",
      "source": [
        "from langchain.tools.yahoo_finance_news import YahooFinanceNewsTool"
      ],
      "metadata": {
        "id": "jTg3T-XMLTDz"
      },
      "execution_count": 278,
      "outputs": []
    },
    {
      "cell_type": "code",
      "source": [
        "class FinanceSearchTool(BaseTool):\n",
        "  name = \"Finance_Search_Tool\"\n",
        "  description = (\n",
        "      \"Use this tool when you need to follow, analyze and interpret financial developments.\"\n",
        "  )\n",
        "  args_schema: Type[BaseTool] = FinanceQueryInput\n",
        "  def _run(self,query:Optional[str])->RESULT:\n",
        "    financeTool = YahooFinanceNewsTool()\n",
        "    financeTool.description = str(financeTool.description) + \" \" + self.description\n",
        "    engine = initialize_agent([financeTool],\n",
        "                              mistralLLM,\n",
        "                              agent=AgentType.CHAT_ZERO_SHOT_REACT_DESCRIPTION,\n",
        "                              verbose=True)\n",
        "    result = engine.run(str(query))\n",
        "    return result"
      ],
      "metadata": {
        "id": "dn-doScOLbQo"
      },
      "execution_count": 279,
      "outputs": []
    },
    {
      "cell_type": "markdown",
      "source": [
        "## Visual Model"
      ],
      "metadata": {
        "id": "CHi8Qxs2vskf"
      }
    },
    {
      "cell_type": "code",
      "source": [
        "visualModelBase = VisualModel()\n",
        "visualModel = visualModelBase.LoadModel()"
      ],
      "metadata": {
        "id": "B2RADayUwGtC"
      },
      "execution_count": 332,
      "outputs": []
    },
    {
      "cell_type": "code",
      "source": [
        "class VisualModelTool(BaseTool):\n",
        "  name = \"Visual_Examination_Tool\"\n",
        "  description = \"Use this tool when an image is sent to you or you detect an image with a given URL\"\n",
        "  args_schema: Type[BaseTool] = VisualModelInput\n",
        "  def _run(self,url:URL | str)->RESULT:\n",
        "    result = visualModelBase.Get(initModel=visualModel,\n",
        "                                 initURL=str(url))\n",
        "    return result"
      ],
      "metadata": {
        "id": "gWYGLdB0vMSR"
      },
      "execution_count": 333,
      "outputs": []
    },
    {
      "cell_type": "markdown",
      "source": [
        "# Tools: Configuration"
      ],
      "metadata": {
        "id": "JaI3yltNseR8"
      }
    },
    {
      "cell_type": "markdown",
      "source": [
        "## Define"
      ],
      "metadata": {
        "id": "wDtiZif5sjYQ"
      }
    },
    {
      "cell_type": "code",
      "source": [
        "youtubeTool = YoutubeExtractionTool()\n",
        "readFileTool = ReadFileTool()\n",
        "wikipediaTool = WikipediaSearchTool()\n",
        "internetSearchTool = InternetSearchTool()\n",
        "arxivSearchTool = ArxivSearchTool()\n",
        "pythonEngineTool = PythonCodeTool()\n",
        "bashEngineTool = BashScriptTool()\n",
        "financeSearchTool = FinanceSearchTool()\n",
        "visualModelTool = VisualModelTool()"
      ],
      "metadata": {
        "id": "zVY8GvR0sHXJ"
      },
      "execution_count": 334,
      "outputs": []
    },
    {
      "cell_type": "code",
      "source": [
        "llmConfiguration = dict()\n",
        "llmConfiguration[\"functions\"] = []\n",
        "llmConfiguration[\"config_list\"] = autogenConfiguration\n",
        "llmConfiguration[\"timeout\"] = 300"
      ],
      "metadata": {
        "id": "_w6z8sOps08J"
      },
      "execution_count": 335,
      "outputs": []
    },
    {
      "cell_type": "code",
      "source": [
        "ReturnLLMConfiguration(configParameter=llmConfiguration,toolBase=youtubeTool)\n",
        "ReturnLLMConfiguration(configParameter=llmConfiguration,toolBase=readFileTool)\n",
        "ReturnLLMConfiguration(configParameter=llmConfiguration,toolBase=wikipediaTool)\n",
        "ReturnLLMConfiguration(configParameter=llmConfiguration,toolBase=internetSearchTool)\n",
        "ReturnLLMConfiguration(configParameter=llmConfiguration,toolBase=arxivSearchTool)\n",
        "ReturnLLMConfiguration(configParameter=llmConfiguration,toolBase=pythonEngineTool)\n",
        "ReturnLLMConfiguration(configParameter=llmConfiguration,toolBase=bashEngineTool)\n",
        "ReturnLLMConfiguration(configParameter=llmConfiguration,toolBase=financeSearchTool)\n",
        "ReturnLLMConfiguration(configParameter=llmConfiguration,toolBase=visualModelTool)"
      ],
      "metadata": {
        "id": "tbHQN_8VtBxL"
      },
      "execution_count": 336,
      "outputs": []
    },
    {
      "cell_type": "markdown",
      "source": [
        "# Actions"
      ],
      "metadata": {
        "id": "NMemZ_httlP_"
      }
    },
    {
      "cell_type": "code",
      "source": [
        "import autogen"
      ],
      "metadata": {
        "id": "NChyQOFatrAI"
      },
      "execution_count": 337,
      "outputs": []
    },
    {
      "cell_type": "code",
      "source": [
        "def PrintMessageCallback(recipient:CLASSINIT,\n",
        "                         messages:CLASSINIT | list,\n",
        "                         sender:CLASSINIT,\n",
        "                         config:CLASSINIT):\n",
        "    if \"callback\" in config and  config[\"callback\"] is not None:\n",
        "        callback = config[\"callback\"]\n",
        "        callback(sender, recipient, messages[-1])\n",
        "    print(f\"MESSAGE -SENT TO: {recipient.name} | NUMBER OF MESSAGE -COUNT: {len(messages)}\")\n",
        "    return False, None"
      ],
      "metadata": {
        "id": "jZVRZiBZ_x_Z"
      },
      "execution_count": 338,
      "outputs": []
    },
    {
      "cell_type": "markdown",
      "source": [
        "## Proxy"
      ],
      "metadata": {
        "id": "meDvIEnJtnws"
      }
    },
    {
      "cell_type": "code",
      "source": [
        "userProxy = autogen.UserProxyAgent(\n",
        "    name=\"user_proxy\",\n",
        "    human_input_mode=\"TERMINATE\",\n",
        "    max_consecutive_auto_reply=10,\n",
        "    is_termination_msg=TERMINATION,\n",
        "    code_execution_config={\"work_dir\":\"coding\",\n",
        "                           \"use_docker\":False}\n",
        ")"
      ],
      "metadata": {
        "id": "CTgIHbE1tYC7"
      },
      "execution_count": 339,
      "outputs": []
    },
    {
      "cell_type": "code",
      "source": [
        "userProxy.register_reply(\n",
        "    [autogen.Agent,None],\n",
        "    reply_func=PrintMessageCallback,\n",
        "    config={\"callback\":None}\n",
        "                         )"
      ],
      "metadata": {
        "id": "ZfAyBvng_3mn"
      },
      "execution_count": 340,
      "outputs": []
    },
    {
      "cell_type": "code",
      "source": [
        "userProxy.register_function(\n",
        "    function_map={\n",
        "        youtubeTool.name:youtubeTool._run,\n",
        "        readFileTool.name:readFileTool._run,\n",
        "        wikipediaTool.name:wikipediaTool._run,\n",
        "        internetSearchTool.name:internetSearchTool._run,\n",
        "        arxivSearchTool.name:arxivSearchTool._run,\n",
        "        pythonEngineTool.name:pythonEngineTool._run,\n",
        "        bashEngineTool.name:bashEngineTool._run,\n",
        "        financeSearchTool.name:financeSearchTool._run,\n",
        "        visualModelTool.name:visualModelTool._run\n",
        "    }\n",
        ")"
      ],
      "metadata": {
        "id": "8scUslAAt8-z"
      },
      "execution_count": 341,
      "outputs": []
    },
    {
      "cell_type": "markdown",
      "source": [
        "## Agent: General"
      ],
      "metadata": {
        "id": "XiycwwdVuJV5"
      }
    },
    {
      "cell_type": "code",
      "source": [
        "assistantPromptMessage = (\n",
        "    \"You are an expert who analyzes video content and texts, answers questions and fulfills requests. \"\n",
        "    \"You fact-check these analyzes by comparing them with historical information. \"\n",
        "    \"If possible, compare the information in the video with other \"\n",
        "    \"information found on the internet and uncover the truth. \"\n",
        "    \"Only use the functions you have been provided with. \"\n",
        "    \"Just state your historical comparisons and facts. \"\n",
        "    \"Stop the process when it produces the answer. \"\n",
        "    \"Reply TERMINATE if the task has been solved at full satisfaction. \"\n",
        "    \"Otherwise, reply CONTINUE, or the reason why the task is not solved yet.\"\n",
        ")"
      ],
      "metadata": {
        "id": "wBSlRl6ouI6L"
      },
      "execution_count": 342,
      "outputs": []
    },
    {
      "cell_type": "code",
      "source": [
        "assistantAgent = autogen.AssistantAgent(\n",
        "    name=\"assistant\",\n",
        "    system_message=assistantPromptMessage,\n",
        "    llm_config=llmConfiguration\n",
        ")"
      ],
      "metadata": {
        "id": "vKgiyPwHuMtE"
      },
      "execution_count": 343,
      "outputs": []
    },
    {
      "cell_type": "code",
      "source": [
        "assistantAgent.register_reply(\n",
        "    [autogen.Agent,None],\n",
        "    reply_func=PrintMessageCallback,\n",
        "    config={\"callback\":None}\n",
        "                         )"
      ],
      "metadata": {
        "id": "V0b91xXcAIZ_"
      },
      "execution_count": 344,
      "outputs": []
    },
    {
      "cell_type": "markdown",
      "source": [
        "## Initialize"
      ],
      "metadata": {
        "id": "VD9gWP_mueX1"
      }
    },
    {
      "cell_type": "code",
      "source": [
        "def ProxyResult(userInput:str,\n",
        "                proxyInitial:MODEL,\n",
        "                assistantInitial:MODEL)->RESULT:\n",
        "  if (userInput is not None) and (userInput != \" \"):\n",
        "    proxyInitial.initiate_chat(\n",
        "        assistantInitial,\n",
        "        message=str(userInput),\n",
        "        llm_config=llmConfiguration\n",
        "    )\n",
        "    if (\"TERMINATE\" in proxyInitial.last_message()[\"content\"].upper()) or (\"TERMINATE\" in assistantAgent.last_message()[\"content\"].upper()):\n",
        "      return assistantAgent.last_message()[\"content\"].replace(\"TERMINATE\",\"\")\n",
        "    else:\n",
        "      return \"An unexpected error occurred - MODEL CRASH -\""
      ],
      "metadata": {
        "id": "4yGkt-763Yle"
      },
      "execution_count": 345,
      "outputs": []
    },
    {
      "cell_type": "code",
      "source": [
        "optionInput = 'What do you see in that image <img https://th.bing.com/th/id/R.422068ce8af4e15b0634fe2540adea7a?rik=y4OcXBE%2fqutDOw&pid=ImgRaw&r=0>.' # @param [\"What do you see in that image <img https://th.bing.com/th/id/R.422068ce8af4e15b0634fe2540adea7a?rik=y4OcXBE%2fqutDOw&pid=ImgRaw&r=0>.\",\"Download the linkedin.com webpage and grep for all urls. Return only a sorted list of them. Be sure to use double quotes.\",\"Send ping query to google.com and save this result as ping_result.txt file\",\"Tell me about the content of this video: https://www.youtube.com/watch?v=6XnsYZxH2nI\"]"
      ],
      "metadata": {
        "cellView": "form",
        "id": "E3m_cIQ_zwxl"
      },
      "execution_count": 349,
      "outputs": []
    },
    {
      "cell_type": "code",
      "source": [
        "resultModel = ProxyResult(userInput=str(optionInput),\n",
        "                          proxyInitial=userProxy,\n",
        "                          assistantInitial=assistantAgent)"
      ],
      "metadata": {
        "id": "GGZ2LI4eVEpL"
      },
      "execution_count": null,
      "outputs": []
    },
    {
      "cell_type": "code",
      "source": [
        "resultModel"
      ],
      "metadata": {
        "colab": {
          "base_uri": "https://localhost:8080/",
          "height": 35
        },
        "id": "rlFFxmkTBOIw",
        "outputId": "07edca3e-c618-49e4-fda8-26b0059928fb"
      },
      "execution_count": 348,
      "outputs": [
        {
          "output_type": "execute_result",
          "data": {
            "text/plain": [
              "''"
            ],
            "application/vnd.google.colaboratory.intrinsic+json": {
              "type": "string"
            }
          },
          "metadata": {},
          "execution_count": 348
        }
      ]
    },
    {
      "cell_type": "code",
      "source": [],
      "metadata": {
        "id": "m-VGEob9tOlX"
      },
      "execution_count": null,
      "outputs": []
    }
  ]
}